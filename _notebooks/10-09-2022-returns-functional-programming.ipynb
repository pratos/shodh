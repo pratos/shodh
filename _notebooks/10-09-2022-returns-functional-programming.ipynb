{
 "cells": [
  {
   "cell_type": "markdown",
   "id": "e3c56be6",
   "metadata": {},
   "source": [
    "# Using returns library in Python to do functional programming\n",
    "> Working with returns library to improve code readability and tackle error handling\n",
    "\n",
    "- toc:true- branch: master\n",
    "- badges: true\n",
    "- comments: true\n",
    "- author: Prathamesh Sarang\n",
    "- categories: [functional programming, python, railway oriented programming]"
   ]
  },
  {
   "cell_type": "markdown",
   "id": "23008516",
   "metadata": {},
   "source": [
    "This is a personal experience of using `returns` and trying to learn functional programming paradigms in Python (in a professional setting). \n",
    "\n",
    "\n",
    "## Functional Programming\n",
    "\n",
    "Python doesn't let you write functional code out of the box. There's a good chance, the \"functional\" code you might write isn't functional. I'm definitely not here to discuss the intricacies of functional programming, just the experiences.\n",
    "\n",
    "We are aware of `map`, `filter`, `functools`, `itertools` and lots of other niceties, which proxies for leveraging nicer parts of functional programming APIs. These let you do the functional things. But I wanted to satisfy my itch for abstractions that would help me leverage functional paradigms more accessible (maybe?). This led me to [returns](https://github.com/dry-python/returns)."
   ]
  },
  {
   "cell_type": "markdown",
   "id": "21fff4da",
   "metadata": {},
   "source": [
    "## Did `returns` have returns?\n",
    "\n",
    "### First impressions and Railway Oriented Programming Pattern\n",
    "\n",
    "`returns` is a nifty library that helps by providing functional constructs to help write \"better\" pythonic, functional code.\n",
    "\n",
    "I was fascinated by Railway Oriented Programming (ROP) Pattern and frustrated by handling Exceptions in a nice way. Exception Handling is a real pain, when you want to make sure that the right messages and error code bubble up from the deep recesses of your controllers and services.\n",
    "\n",
    "When an opportunity arose, I jumped at using `returns`. As a team, we had planned to use `returns`, but our attempts were half hearted at best. Using `returns` was a rocky, but enlightening experience.\n",
    "\n",
    "Though I can't reveal the actual code, let me take you through a usage for `returns`. But first a tldr on Railway Oriented Programming Pattern\n",
    "\n",
    "> Many examples in functional programming assume that you are always on the “happy path”. But to create a robust real world application you must deal with validation, logging, network and service errors, and other annoyances. So, how do you handle all this in a clean functional way? - F# For Fun and Profit"
   ]
  },
  {
   "cell_type": "code",
   "execution_count": 298,
   "id": "6ab82d9e",
   "metadata": {},
   "outputs": [
    {
     "data": {
      "text/html": [
       "<image src=\"https://miro.medium.com/max/1400/1*6bzo0qxaFYMCfYGuz7O4qw.png\"/>\n"
      ],
      "text/plain": [
       "<IPython.core.display.HTML object>"
      ]
     },
     "metadata": {},
     "output_type": "display_data"
    }
   ],
   "source": [
    "%%html\n",
    "<image src=\"https://miro.medium.com/max/1400/1*6bzo0qxaFYMCfYGuz7O4qw.png\"/>"
   ]
  },
  {
   "cell_type": "markdown",
   "id": "327d570b",
   "metadata": {},
   "source": [
    "In short, ROP tells us to:\n",
    "* Create some sort of `Result` type that defines a `2 Track Output` == `Union[Success, Failure]`\n",
    "* Use a `bind` function to convert all our functions to a two track output (even if they can't throw errors)\n",
    "* Compose all your functions via pipes\n",
    "* Add nice `Error` types as your write and refactor your code to handle those pesky `Failures`\n",
    "\n",
    "`returns` provides all of that in nicely packages containers with similar names like `Result`, `Success` and `Failure` (There's more but for scope we won't be covering the rest). `returns` readme has an excellent example on how to use those, the example used here is a modfied version.\n",
    "\n",
    "### Problem statement to solve\n",
    "\n",
    "We'll be fetching data from football (soccer 👀) player data from [fbref](https://fbref.com). We'll be extracting the data from html tables on the page and store it in a csv. Let's start by fetching Arsenal's 2022-23 season data via this url: [link](https://fbref.com/en/squads/18bb7c10/Arsenal-Stats)\n",
    "\n",
    "Let's layout the steps that we'll need to perform inorder to get from our html page to a csv:\n",
    "- Fetch the html content via `requests`\n",
    "- Convert the html content to a `BeautifulSoup` for further extraction\n",
    "- Extract all the tables and combine all the statistics into one table\n",
    "- Save the table to a csv\n",
    "\n",
    "To simplify a few steps and for brevity, we'll be skipping a lot of the stats mapping code.\n",
    "\n",
    "Make sure you install `returns` in your _venv_. "
   ]
  },
  {
   "cell_type": "code",
   "execution_count": 9,
   "id": "3eae8d57",
   "metadata": {},
   "outputs": [
    {
     "data": {
      "text/plain": [
       "'3.10.4 (main, Jun  1 2022, 18:38:27) [Clang 13.0.1 ]'"
      ]
     },
     "execution_count": 9,
     "metadata": {},
     "output_type": "execute_result"
    }
   ],
   "source": [
    "import sys\n",
    "sys.version"
   ]
  },
  {
   "cell_type": "markdown",
   "id": "48e10c1e",
   "metadata": {},
   "source": [
    "Below is the code to parse data, you can skip this if you like"
   ]
  },
  {
   "cell_type": "code",
   "execution_count": 167,
   "id": "3e3632cd",
   "metadata": {},
   "outputs": [],
   "source": [
    "#collapse-hide\n",
    "import requests\n",
    "from bs4 import BeautifulSoup\n",
    "from loguru import logger\n",
    "from returns.result import Result, Success, Failure\n",
    "\n",
    "def formatter(v: int|float) -> int|float:\n",
    "    if not v:\n",
    "        return 0.0\n",
    "    return literal_eval(v)\n",
    "\n",
    "from enum import Enum\n",
    "from typing import Literal, List\n",
    "class TableId(Enum):\n",
    "    standard_stats = \"stats_standard_9\"\n",
    "    \n",
    "    def __str__(self):\n",
    "        return self.value\n",
    "\n",
    "from pydantic import BaseModel, validator\n",
    "from ast import literal_eval\n",
    "\n",
    "Nation = Literal[\"ENG\", \"FRA\", \"BRA\", \"NOR\", \"SUI\", \"UKR\", \"GHA\", \"SCO\", \"BEL\", \"EGY\", \"JPN\",\n",
    "                \"POR\", \"CIV\", \"USA\"]\n",
    "Position = Literal[\"GK\", \"DF\", \"MF\", \"FW\"]\n",
    "\n",
    "class Age(BaseModel):\n",
    "    year: int\n",
    "    months: int\n",
    "        \n",
    "    @validator(\"*\", pre=True, always=True)\n",
    "    def formatter(cls, v):\n",
    "        if not v:\n",
    "            return 0.0\n",
    "        return literal_eval(v.lstrip(\"0\"))\n",
    "    \n",
    "    @validator(\"months\", always=True)\n",
    "    def age_convertor(cls, v):\n",
    "        return round(v / 30, 0)\n",
    "\n",
    "class BasicProfile(BaseModel):\n",
    "    player_name: str\n",
    "    nation: Nation\n",
    "    position: List[Position]\n",
    "    age: Age\n",
    "        \n",
    "\n",
    "class PlayingTime(BaseModel):\n",
    "    matches_played: int\n",
    "    minutes_played: int\n",
    "    starts: int\n",
    "    nineties: int\n",
    "\n",
    "    _formatter = validator(\"*\", pre=True, allow_reuse=True)(formatter)\n",
    "\n",
    "\n",
    "class Performance(BaseModel):\n",
    "    goals_scored_or_allowed: int\n",
    "    assists: int\n",
    "    non_penalty_goals: int\n",
    "    penalties: int\n",
    "    yellow_cards: int\n",
    "    red_cards: int\n",
    "    \n",
    "    _formatter = validator(\"*\", pre=True, allow_reuse=True)(formatter)\n",
    "\n",
    "class PerformancePer90(BaseModel):\n",
    "    goals: float\n",
    "    assists: float\n",
    "    \n",
    "    _formatter = validator(\"*\", pre=True, allow_reuse=True)(formatter)\n",
    "\n",
    "class XPPerformance(BaseModel):\n",
    "    expected_goals: float\n",
    "    non_penalty_expected_goals: float\n",
    "    expected_assists: float\n",
    "    non_penalty_goals_expected_and_assists: float\n",
    "    \n",
    "    _formatter = validator(\"*\", pre=True, allow_reuse=True)(formatter)\n",
    "\n",
    "class XPPerformancePer90(XPPerformance):\n",
    "    pass\n",
    "        \n",
    "\n",
    "class StandardStats(BaseModel):\n",
    "    player_profile: BasicProfile\n",
    "    playing_time_overall: PlayingTime\n",
    "    player_performance: Performance\n",
    "    player_performance_per_90: PerformancePer90\n",
    "    player_xp: XPPerformance\n",
    "    player_xp_per_90: XPPerformancePer90\n",
    "\n",
    "arsenal_url = \"https://fbref.com/en/squads/18bb7c10/Arsenal-Stats\""
   ]
  },
  {
   "cell_type": "code",
   "execution_count": 281,
   "id": "873c8873",
   "metadata": {},
   "outputs": [
    {
     "data": {
      "text/plain": [
       "'Successfully saved data to ../data/arsenal_standard_stats.json'"
      ]
     },
     "execution_count": 281,
     "metadata": {},
     "output_type": "execute_result"
    }
   ],
   "source": [
    "#collapse-hide\n",
    "def fetch_html_content(url: AnyHttpUrl) -> BeautifulSoup:\n",
    "    resp = requests.get(url, timeout=20)\n",
    "    return BeautifulSoup(resp.content, \"html.parser\")\n",
    "\n",
    "html_data = fetch_html_content(url=arsenal_url)\n",
    "\n",
    "* Extracting all the tables\n",
    "    - We'll just extract one for brevity\n",
    "    - Excuse the multiple list comprehensions, isn't optimized 😬\n",
    "\n",
    "#collapse-hide\n",
    "def extract_and_format_fbref_data(table_id: TableId, html_data: BeautifulSoup) -> List[StandardStats]:\n",
    "    standard_stats_list = []\n",
    "    standard_stats_table = html_data.find(id=table_id)\n",
    "    standard_stats_table.find_all(\"caption\")[0].text\n",
    "    table_headers = [row.text.lower() for row in standard_stats_table.find_all(\"tr\")[1] if row != ' ']\n",
    "    table_data = standard_stats_table.find_all(\"tbody\")[0]\n",
    "    for idx, row in enumerate(table_data.find_all(\"tr\")):\n",
    "        stripped_data = [data.text for data in row]\n",
    "        age = Age(\n",
    "            year=stripped_data[3].split(\"-\")[0], \n",
    "            months=stripped_data[3].split(\"-\")[1]\n",
    "        )\n",
    "        basic_profile = BasicProfile(\n",
    "            age=age,\n",
    "            player_name=stripped_data[0],\n",
    "            nation=stripped_data[1].split(\" \")[1],\n",
    "            position=[pos.strip() for pos in stripped_data[2].split(\",\")]\n",
    "        )\n",
    "        playing_time = PlayingTime(\n",
    "            matches_played=stripped_data[4], \n",
    "            starts=stripped_data[5], \n",
    "            minutes_played=stripped_data[6], \n",
    "            nineties=stripped_data[7]\n",
    "        )\n",
    "        performance = Performance(\n",
    "            goals_scored_or_allowed=stripped_data[8], \n",
    "            assists=stripped_data[9], \n",
    "            non_penalty_goals=stripped_data[10], \n",
    "            penalties=stripped_data[11], \n",
    "            yellow_cards=stripped_data[13], \n",
    "            red_cards=stripped_data[14]\n",
    "        )\n",
    "        performance_per90 = PerformancePer90(\n",
    "            goals=stripped_data[15], \n",
    "            assists=stripped_data[16],\n",
    "        )\n",
    "        xp_performance = XPPerformance(\n",
    "            expected_goals=stripped_data[20],\n",
    "            non_penalty_expected_goals=stripped_data[21],\n",
    "            expected_assists=stripped_data[22],\n",
    "            non_penalty_goals_expected_and_assists=stripped_data[23],\n",
    "        )\n",
    "        xp_performance_per90 = XPPerformancePer90(\n",
    "            expected_goals=stripped_data[24],\n",
    "            non_penalty_expected_goals=stripped_data[25],\n",
    "            expected_assists=stripped_data[26],\n",
    "            non_penalty_goals_expected_and_assists=stripped_data[27],\n",
    "        )\n",
    "        standard_stats = StandardStats(\n",
    "            player_profile=basic_profile,\n",
    "            playing_time_overall=playing_time,\n",
    "            player_performance=performance,\n",
    "            player_performance_per_90=performance_per90,\n",
    "            player_xp=xp_performance,\n",
    "            player_xp_per_90=xp_performance_per90\n",
    "        )\n",
    "        standard_stats_list.append(standard_stats)\n",
    "    return standard_stats_list\n",
    "\n",
    "parsed_data = extract_and_format_fbref_data(table_id=TableId.standard_stats.value, html_data=html_data)\n",
    "\n",
    "import csv\n",
    "import json\n",
    "\n",
    "class JsonWriter:\n",
    "    def __init__(self, path: str, data: List[StandardStats]):\n",
    "        self._path = path\n",
    "        self._data = data\n",
    "    \n",
    "    def save(self) -> None:\n",
    "        with open(self._path, \"w\", newline=\"\") as json_file:\n",
    "            json.dump([stat.dict() for stat in self._data], json_file)\n",
    "\n",
    "def save_data(writer: CSVWriter | JsonWriter, path: str, data: List[StandardStats]) -> str:\n",
    "    writer_inst = writer(path=path, data=data)\n",
    "    writer_inst.save()\n",
    "    return f\"Successfully saved data to {path}\"\n",
    "\n",
    "save_data(JsonWriter, path=\"../data/arsenal_standard_stats.json\", data=parsed_data)"
   ]
  },
  {
   "cell_type": "markdown",
   "id": "977b19be",
   "metadata": {},
   "source": [
    "### How do we bind these and make sure that we follow ROP?\n",
    "\n",
    "Two magic keywords: `@safe` and `bind` (or `flow`). \n",
    "\n",
    "- `@safe` is basically an exception handler decorator. Any exception caught will return a `Failure` container. For the happy path, we'd have `Success` container with our output\n",
    "    - There's also `@impure_safe` which is a more explicit way to tell readers that this piece of code might fail or result might be different for the same request. DB Query, API calls, etc\n",
    "- `flow` (or `pipe`) act as pipelines for stiching functions together using `bind`"
   ]
  },
  {
   "cell_type": "code",
   "execution_count": 288,
   "id": "dc7ec597",
   "metadata": {},
   "outputs": [],
   "source": [
    "from returns.pipeline import flow\n",
    "from returns.pointfree import bind\n",
    "from returns.result import safe\n",
    "from returns.io import impure_safe, IOResult\n",
    "from returns.curry import curry\n",
    "\n",
    "@impure_safe\n",
    "def fetch_html_content(url: AnyHttpUrl) -> BeautifulSoup:\n",
    "    resp = requests.get(url, timeout=20)\n",
    "    return BeautifulSoup(resp.content, \"html.parser\")\n",
    " \n",
    "@safe\n",
    "def extract_and_format_fbref_data(table_id: TableId, html_data: BeautifulSoup) -> List[StandardStats]:\n",
    "    standard_stats_list = []\n",
    "    ...\n",
    "    return standard_stats_list\n",
    "\n",
    "@safe\n",
    "def save_data(writer: CSVWriter | JsonWriter, path: str, data: List[StandardStats]) -> str:\n",
    "    writer_inst = writer(path=path, data=data)\n",
    "    writer_inst.save()\n",
    "    return f\"Successfully saved data to {path}\"\n",
    "\n",
    "def fetch_standard_stats(url: AnyHttpUrl, table_id: TableId, output_path: str) -> IOResult[Success, Failure]:\n",
    "    return flow(\n",
    "        url,\n",
    "        fetch_html_content,\n",
    "        bind(partial(extract_and_format_fbref_data, table_id)),\n",
    "        bind(partial(partial(save_data, JsonWriter), output_path))\n",
    "    )"
   ]
  },
  {
   "cell_type": "markdown",
   "id": "4ad30527",
   "metadata": {},
   "source": [
    "Let me lay out the `flow` pipeline in `fetch_standard_stats`:\n",
    "- `flow` is a pipeline that takes in the attribute(s) (`url` here) for the first function: `fetch_html_content`. \n",
    "- The first function throws out a `Success` container (if no exceptions) that is consumed by `extract_and_format_fbref_data`. Since the 2nd function has multiple arguments, we are using `partial` to bind together arguments. "
   ]
  },
  {
   "cell_type": "code",
   "execution_count": null,
   "id": "8a992cf3",
   "metadata": {},
   "outputs": [],
   "source": [
    "bind(partial(extract_and_format_fbref_data, table_id))"
   ]
  },
  {
   "cell_type": "markdown",
   "id": "2b2c5115",
   "metadata": {},
   "source": [
    "Above is equivalent to:"
   ]
  },
  {
   "cell_type": "code",
   "execution_count": null,
   "id": "d2b1aec8",
   "metadata": {},
   "outputs": [],
   "source": [
    "function_1 = partial(extract_and_format_fbref_data, table_id)\n",
    "function_2 = bind(function_1, 'Success: html_data')"
   ]
  },
  {
   "cell_type": "markdown",
   "id": "1968ddc6",
   "metadata": {},
   "source": [
    "- `function_2` above will emit: `Success: parsed_data` which would be input for the next bind function.\n",
    "\n",
    "A successful outcome would be as below"
   ]
  },
  {
   "cell_type": "code",
   "execution_count": 289,
   "id": "9dff1bee",
   "metadata": {},
   "outputs": [
    {
     "data": {
      "text/plain": [
       "<Success: Successfully saved data to ../data/arsenal_standard_stats.json>"
      ]
     },
     "execution_count": 289,
     "metadata": {},
     "output_type": "execute_result"
    }
   ],
   "source": [
    "fetch_standard_stats(\n",
    "    arsenal_url,\n",
    "    TableId.standard_stats,\n",
    "    \"../data/arsenal_standard_stats.json\"\n",
    ")"
   ]
  },
  {
   "cell_type": "markdown",
   "id": "10d962d7",
   "metadata": {},
   "source": [
    "If we mess up something in the `arsenal_url`? Let's check what the output would be:"
   ]
  },
  {
   "cell_type": "code",
   "execution_count": 257,
   "id": "a174ef2b",
   "metadata": {},
   "outputs": [
    {
     "data": {
      "text/plain": [
       "<Failure: HTTPSConnectionPool(host='localhost', port=9200): Max retries exceeded with url: / (Caused by SSLError(SSLError(1, '[SSL: WRONG_VERSION_NUMBER] wrong version number (_ssl.c:997)')))>"
      ]
     },
     "execution_count": 257,
     "metadata": {},
     "output_type": "execute_result"
    }
   ],
   "source": [
    "fetch_standard_stats(\"https://localhost:9200\")"
   ]
  },
  {
   "cell_type": "markdown",
   "id": "fc8ad69f",
   "metadata": {},
   "source": [
    "As expected, we get a `HTTPSConnectionPool` error that we get out without writing excessive `try-catch` blocks. We can easily bubble these errors 2-3 levels up using bindings and making the code cleaner.\n",
    "\n",
    "At any step of the pipeline, `Failure` container would throw a nice message and we can do the rest. Obviously, there's a few more nuanced implementations for complex pipelines. E.g. While doing a DB operation if the query sends no result or API request is unsuccessful with a valid status code. All those might need more rejig of the code.\n",
    "\n",
    "### How do we fetch the output from `Success` container?\n",
    "\n",
    "In our case, the final step throws a `Success` container with response `str` embedded. If we want to send this result back via API or do another set of operations on it, it is easy to do with `result._inner_value`"
   ]
  },
  {
   "cell_type": "code",
   "execution_count": 290,
   "id": "01ec1ba2",
   "metadata": {},
   "outputs": [],
   "source": [
    "success_result = fetch_standard_stats(\n",
    "    arsenal_url,\n",
    "    TableId.standard_stats,\n",
    "    \"../data/arsenal_standard_stats.json\"\n",
    ")"
   ]
  },
  {
   "cell_type": "code",
   "execution_count": 293,
   "id": "c044b59f",
   "metadata": {},
   "outputs": [
    {
     "data": {
      "text/plain": [
       "'Successfully saved data to ../data/arsenal_standard_stats.json'"
      ]
     },
     "execution_count": 293,
     "metadata": {},
     "output_type": "execute_result"
    }
   ],
   "source": [
    "success_result._inner_value"
   ]
  },
  {
   "cell_type": "markdown",
   "id": "c98ff26d",
   "metadata": {},
   "source": [
    "`._inner_value` could be anything that you want to share: _dict, str, Object, Query row, json_. This opens up a lot of avenues to play around with `pydantic` Models or `dataclasses` that help standardize API responses, sql orm models!\n",
    "\n",
    "## Is is any good to use?\n",
    "\n",
    "`returns` doesn't have a great documentation. It would be hard to blame the maintainers coz one needs to atleast understand basics of functional programming (`currying`, `partial`, `Optional`, `Maybe` containers). A comprehensive documentation/examples about more real life usage could help more non-chad devs like us.\n",
    "\n",
    "Combined with `OOPS`, `returns` would definitely be an alternative to write cleaner, readable code. One could also ditch `returns` entirely and work with `functools`, `dataclasses` and `types` in python to write similar helpers, decorators in vanilla python. Maybe that could be another blog post.\n",
    "\n",
    "The above code surely can be much better, still improving on how to write code. Would love to hear feedback on the code and this blogpost!\n",
    "\n",
    "\n",
    "## Appendix\n",
    "- [Functional programming: Computerphile]()\n",
    "- [functools.partial](https://docs.python.org/3/library/functools.html#functools.partial)\n",
    "- [3 Simple ideas from functional programming to improve your code - Arjan Codes](https://www.youtube.com/watch?v=yk-IXz0DjTY)\n",
    "- [Functional Programming in Python: Currying](https://www.youtube.com/watch?v=yk-IXz0DjTY)"
   ]
  }
 ],
 "metadata": {
  "kernelspec": {
   "display_name": "Python 3 (ipykernel)",
   "language": "python",
   "name": "python3"
  },
  "language_info": {
   "codemirror_mode": {
    "name": "ipython",
    "version": 3
   },
   "file_extension": ".py",
   "mimetype": "text/x-python",
   "name": "python",
   "nbconvert_exporter": "python",
   "pygments_lexer": "ipython3",
   "version": "3.10.4"
  }
 },
 "nbformat": 4,
 "nbformat_minor": 5
}
